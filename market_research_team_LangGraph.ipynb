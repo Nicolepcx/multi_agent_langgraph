{
  "cells": [
    {
      "cell_type": "markdown",
      "id": "a3e3ebc4-57af-4fe4-bdd3-36aff67bf276",
      "metadata": {
        "id": "a3e3ebc4-57af-4fe4-bdd3-36aff67bf276"
      },
      "source": [
        "## Create a Team of Agents to do Market Research for your Product Developement\n",
        "\n",
        "This notebook draws inspiration from the paper [AutoGen: Enabling Next-Gen LLM Applications via Multi-Agent Conversation](https://arxiv.org/abs/2308.08155) by Wu et al., and the examples from [LangGraph](https://github.com/langchain-ai/langgraph/tree/main/examples/multi_agent). In this notebook, you will construct a Market Research Team and learn the following:\n",
        "\n",
        "- How to define tools for agents. You will use the following tools:\n",
        "  - [Taviliy](https://tavily.com/) for web search, get your [API key here](https://app.tavily.com/home).\n",
        "  - [Exa](https://exa.ai/search), after account login, get your [API key here](https://docs.exa.ai/reference/getting-started-with-python). To find the exact content you're looking for on the web using embeddings-based search.  \n",
        "  - [SerpApi here](https://serpapi.com/), after account login, get your [API key](https://serpapi.com/dashboard) to do look for existing patents.\n",
        "  - Tools to access and write to a `.txt` file.\n",
        "- How to define utilities to help create the graph.\n",
        "- How to create a team supervisor and the team of agents.\n",
        "\n",
        "\n",
        "</br>\n",
        "\n",
        "## LangGraph\n",
        "You will be using [LangGraph](https://langchain-ai.github.io/langgraph/) for this. LangGraph is a library designed for building stateful, multi-actor applications with LLMs, facilitating the creation of agent and multi-agent workflows.\n",
        "\n",
        "LangGraph supports the definition of flows that involve `cycles`, which are crucial for most __agentic architectures__. It is a low-level framework and provides you, therefore, fine-grained control over both the flow and state of your application.\n",
        "\n",
        "LangGraph is inspired by [Pregel](https://research.google/pubs/pub37252/) and [Apache Beam](https://beam.apache.org/). The public interface draws inspiration from [NetworkX](https://networkx.org/documentation/latest/).\n",
        "\n",
        "</br>\n",
        "\n",
        "### Key Features\n",
        "\n",
        "- __Cycles and Branching__: Implement loops and conditionals in your apps.\n",
        "- __Persistence__: Automatically save state after each step in the graph. Pause and resume the graph execution at any point to support error recovery, human-in-the-loop workflows, time travel and more.\n",
        "- __Human-in-the-Loop__: Interrupt graph execution to approve or edit next action planned by the agent.\n",
        "- __Streaming Support__: Stream outputs as they are produced by each node (including token streaming).\n",
        "- __Integration with LangChain__: LangGraph integrates seamlessly with [LangChain](https://www.langchain.com/) and [LangSmith](https://docs.smith.langchain.com/), but does not require them."
      ]
    },
    {
      "cell_type": "markdown",
      "source": [
        "# Install Dependencies"
      ],
      "metadata": {
        "id": "TB0CJw6auXzz"
      },
      "id": "TB0CJw6auXzz"
    },
    {
      "cell_type": "code",
      "execution_count": null,
      "id": "0d30b6f7-3bec-4d9f-af50-43dfdc81ae6c",
      "metadata": {
        "ExecuteTime": {
          "end_time": "2024-05-15T08:19:42.364369Z",
          "start_time": "2024-05-15T08:19:42.359273Z"
        },
        "id": "0d30b6f7-3bec-4d9f-af50-43dfdc81ae6c"
      },
      "outputs": [],
      "source": [
        "!pip install -q langchain==0.2.12 \\\n",
        "                langgraph==0.1.19 \\\n",
        "                langchain_community==0.2.10 \\\n",
        "                langchain_experimental==0.0.63 \\\n",
        "                langchain_openai==0.1.20 \\\n",
        "                langchain_fireworks==0.1.7 \\\n",
        "                python-dotenv==1.0.1 \\\n",
        "                google-search-results==2.4.2 \\\n",
        "                exa-py==1.0.17"
      ]
    },
    {
      "cell_type": "markdown",
      "source": [
        "# Imports"
      ],
      "metadata": {
        "id": "nZPDfupfua2G"
      },
      "id": "nZPDfupfua2G"
    },
    {
      "cell_type": "code",
      "source": [
        "# Basic imports\n",
        "import os\n",
        "import functools\n",
        "import operator\n",
        "from tempfile import TemporaryDirectory\n",
        "from pathlib import Path\n",
        "from typing import Annotated, List, Dict, Optional\n",
        "from typing_extensions import TypedDict\n",
        "\n",
        "# LangChain & LangGraph imports\n",
        "from langchain_community.document_loaders import WebBaseLoader\n",
        "from langchain_community.tools.tavily_search import TavilySearchResults\n",
        "from langchain_core.tools import tool\n",
        "from langchain_core.messages import BaseMessage, HumanMessage\n",
        "from langchain_core.prompts import ChatPromptTemplate, MessagesPlaceholder\n",
        "from langchain_fireworks import ChatFireworks\n",
        "from langchain.agents import AgentExecutor, create_openai_functions_agent\n",
        "from langchain.output_parsers.openai_functions import JsonOutputFunctionsParser\n",
        "from langchain_openai import ChatOpenAI\n",
        "from langchain_openai.chat_models import ChatOpenAI\n",
        "from langgraph.graph import END, StateGraph, START\n",
        "\n",
        "# Display the graph\n",
        "from IPython.display import Image, display\n",
        "\n",
        "# API access\n",
        "from dotenv import load_dotenv\n",
        "load_dotenv()"
      ],
      "metadata": {
        "colab": {
          "base_uri": "https://localhost:8080/"
        },
        "id": "Vu5vb3uscLeW",
        "outputId": "0387a484-9c85-493b-a544-ab4e33c13925"
      },
      "id": "Vu5vb3uscLeW",
      "execution_count": null,
      "outputs": [
        {
          "output_type": "execute_result",
          "data": {
            "text/plain": [
              "True"
            ]
          },
          "metadata": {},
          "execution_count": 16
        }
      ]
    },
    {
      "cell_type": "markdown",
      "source": [
        "# API Setup"
      ],
      "metadata": {
        "id": "kid3L2N9fKpo"
      },
      "id": "kid3L2N9fKpo"
    },
    {
      "cell_type": "code",
      "execution_count": null,
      "id": "30c2f3de-c730-4aec-85a6-af2c2f058803",
      "metadata": {
        "ExecuteTime": {
          "end_time": "2024-05-15T08:19:42.395571Z",
          "start_time": "2024-05-15T08:19:42.365662Z"
        },
        "id": "30c2f3de-c730-4aec-85a6-af2c2f058803"
      },
      "outputs": [],
      "source": [
        "# Setup .env file via the terminal\n",
        "OPENAI_API_KEY = os.getenv('OPENAI_API_KEY')\n",
        "LANGCHAIN_API_KEY = os.getenv('LANGCHAIN_API_KEY')\n",
        "TAVILY_API_KEY = os.getenv('TAVILY_API_KEY')\n",
        "serp_api_key = os.getenv(\"SERPAPI_API_KEY\")\n",
        "exa_api_key = os.getenv(\"EXA_API_KEY\")\n",
        "\n",
        "# Uncomment if you want to use Fireworks instead of OpenAI\n",
        "# FIREWORKS_API_KEY = os.getenv('FIREWORKS_API_KEY')"
      ]
    },
    {
      "cell_type": "code",
      "source": [
        "# Tracking via LangSmith\n",
        "LANGCHAIN_API_KEY = os.getenv(\"LANGCHAIN_API_KEY\")\n",
        "\n",
        "os.environ[\"LANGCHAIN_TRACING_V2\"] = \"true\"\n",
        "os.environ[\"LANGCHAIN_ENDPOINT\"] = \"https://api.smith.langchain.com\"\n",
        "\n",
        "\n",
        "###### ATT ######\n",
        "# The above API is for US-accounts, if you have an EU account you have use this one:\n",
        "# os.environ[\"LANGCHAIN_ENDPOINT\"] = \"https://eu.api.smith.langchain.com/\"\n",
        "\n",
        "\n",
        "project_name = \"Market Research Team\"  # Update with your project name\n",
        "os.environ[\"LANGCHAIN_PROJECT\"] = project_name  # Optional: \"default\" is used if not set\n"
      ],
      "metadata": {
        "id": "KctPGpE45xIR"
      },
      "id": "KctPGpE45xIR",
      "execution_count": null,
      "outputs": []
    },
    {
      "cell_type": "markdown",
      "source": [
        "# Define a Persistent Working Directory"
      ],
      "metadata": {
        "id": "dGElI_24fO2B"
      },
      "id": "dGElI_24fO2B"
    },
    {
      "cell_type": "code",
      "source": [
        "# Define a persistent working directory\n",
        "WORKING_DIRECTORY = Path(\"/content/working_directory\")\n",
        "\n",
        "# Ensure the working directory exists\n",
        "if not WORKING_DIRECTORY.exists():\n",
        "    WORKING_DIRECTORY.mkdir(parents=True)\n",
        "    print(f\"Created working directory: {WORKING_DIRECTORY}\")\n",
        "else:\n",
        "    print(f\"Working directory already exists: {WORKING_DIRECTORY}\")\n"
      ],
      "metadata": {
        "colab": {
          "base_uri": "https://localhost:8080/"
        },
        "id": "s94e5urPfIk4",
        "outputId": "fba93e00-e3b0-4131-da24-b1bd1007ac49"
      },
      "id": "s94e5urPfIk4",
      "execution_count": null,
      "outputs": [
        {
          "output_type": "stream",
          "name": "stdout",
          "text": [
            "Working directory already exists: /content/working_directory\n"
          ]
        }
      ]
    },
    {
      "cell_type": "markdown",
      "id": "354568e2-aef0-4af9-8a79-e64d3eea752f",
      "metadata": {
        "id": "354568e2-aef0-4af9-8a79-e64d3eea752f"
      },
      "source": [
        "# Create Tools\n",
        "\n",
        "Here you will create the tools for your agents. You can extend your agents [toolbox](https://python.langchain.com/v0.2/docs/concepts/#tools) as you wish.\n",
        "The `@tool` decorator is the simpliest way of defining a custom tool. Note that you __need__ to define a `docstring` as the tool's description.\n",
        "\n",
        "</br>\n",
        "\n",
        "__Note of caution__:\n",
        "\n",
        "The document writing and file-access tools gives your agents access to your file-system, this can be unsafe.\n"
      ]
    },
    {
      "cell_type": "code",
      "execution_count": null,
      "id": "f20a18ca-2709-4c12-84f3-88678591a9fa",
      "metadata": {
        "ExecuteTime": {
          "end_time": "2024-05-15T08:19:44.538421Z",
          "start_time": "2024-05-15T08:19:44.479132Z"
        },
        "id": "f20a18ca-2709-4c12-84f3-88678591a9fa"
      },
      "outputs": [],
      "source": [
        "# Load SerpAPI Search Wrapper from LangChain\n",
        "\n",
        "from langchain_community.utilities import SerpAPIWrapper\n",
        "from exa_py import Exa\n",
        "import json\n",
        "from typing import List\n",
        "\n",
        "\n",
        "@tool(\"patent_search\")\n",
        "def patent_search(query: str) -> str:\n",
        "    \"\"\"Search with Google SERP API by a query to fine news about patents related to the query.\"\"\"\n",
        "    params = {\n",
        "        \"engine\": \"google_patents\",\n",
        "        \"gl\": \"us\",\n",
        "        \"hl\": \"en\",\n",
        "        }\n",
        "    patent_search = SerpAPIWrapper(params=params, serpapi_api_key=serp_api_key)\n",
        "    return patent_search.run(query)\n",
        "\n",
        "\n",
        "@tool(\"exa_search\")\n",
        "def exa_search(question: str) -> str:\n",
        "    \"\"\"Tool using Exa's Python SDK to run semantic search and return result highlights.\"\"\"\n",
        "    exa = Exa(exa_api_key)\n",
        "\n",
        "    response = exa.search_and_contents(\n",
        "        question,\n",
        "        type=\"neural\",\n",
        "        use_autoprompt=True,\n",
        "        num_results=3,\n",
        "        highlights=True\n",
        "    )\n",
        "\n",
        "    results = []\n",
        "    for idx, eachResult in enumerate(response.results):\n",
        "        result = {\n",
        "            \"Title\": eachResult.title,\n",
        "            \"URL\": eachResult.url,\n",
        "            \"Highlight\": \"\".join(eachResult.highlights)\n",
        "        }\n",
        "        results.append(result)\n",
        "\n",
        "    return json.dumps(results)\n",
        "\n",
        "# Load Tavily Search Wrapper from LangChain\n",
        "tavily_tool = TavilySearchResults(\n",
        "    max_results= 5,\n",
        "    search_depth = \"advanced\"\n",
        "    )\n",
        "\n",
        "\n",
        "########## Document Tools ##########\n",
        "@tool\n",
        "def create_outline(\n",
        "    points: Annotated[List[str], \"List of main points or sections.\"],\n",
        "    file_name: Annotated[str, \"File path to save the outline.\"],\n",
        ") -> Annotated[str, \"Path of the saved outline file.\"]:\n",
        "    \"\"\"Create and save an outline.\"\"\"\n",
        "    with (WORKING_DIRECTORY / file_name).open(\"w\") as file:\n",
        "        for i, point in enumerate(points):\n",
        "            file.write(f\"{i + 1}. {point}\\n\")\n",
        "    return f\"Outline saved to {file_name}\"\n",
        "\n",
        "\n",
        "@tool\n",
        "def read_document(\n",
        "    file_name: Annotated[str, \"File path to save the document.\"],\n",
        "    start: Annotated[Optional[int], \"The start line. Default is 0\"] = None,\n",
        "    end: Annotated[Optional[int], \"The end line. Default is None\"] = None,\n",
        ") -> str:\n",
        "    \"\"\"Read the specified document.\"\"\"\n",
        "    with (WORKING_DIRECTORY / file_name).open(\"r\") as file:\n",
        "        lines = file.readlines()\n",
        "    if start is not None:\n",
        "        start = 0\n",
        "    return \"\\n\".join(lines[start:end])\n",
        "\n",
        "\n",
        "@tool\n",
        "def write_document(\n",
        "    content: Annotated[str, \"Text content to be written into the document.\"],\n",
        "    file_name: Annotated[str, \"File path to save the document.\"],\n",
        ") -> Annotated[str, \"Path of the saved document file.\"]:\n",
        "    \"\"\"Create and save a text document.\"\"\"\n",
        "    with (WORKING_DIRECTORY / file_name).open(\"w\") as file:\n",
        "        file.write(content)\n",
        "    return f\"Document saved to {file_name}\"\n",
        "\n",
        "\n",
        "@tool\n",
        "def edit_document(\n",
        "    file_name: Annotated[str, \"Path of the document to be edited.\"],\n",
        "    inserts: Annotated[\n",
        "        Dict[int, str],\n",
        "        \"Dictionary where key is the line number (1-indexed) and value is the text to be inserted at that line.\",\n",
        "    ],\n",
        ") -> Annotated[str, \"Path of the edited document file.\"]:\n",
        "    \"\"\"Edit a document by inserting text at specific line numbers.\"\"\"\n",
        "\n",
        "    with (WORKING_DIRECTORY / file_name).open(\"r\") as file:\n",
        "        lines = file.readlines()\n",
        "\n",
        "    sorted_inserts = sorted(inserts.items())\n",
        "\n",
        "    for line_number, text in sorted_inserts:\n",
        "        if 1 <= line_number <= len(lines) + 1:\n",
        "            lines.insert(line_number - 1, text + \"\\n\")\n",
        "        else:\n",
        "            return f\"Error: Line number {line_number} is out of range.\"\n",
        "\n",
        "    with (WORKING_DIRECTORY / file_name).open(\"w\") as file:\n",
        "        file.writelines(lines)\n",
        "\n",
        "    return f\"Document edited and saved to {file_name}\"\n"
      ]
    },
    {
      "cell_type": "markdown",
      "source": [
        "# Create Agent and Team Supervisor"
      ],
      "metadata": {
        "id": "KgRKzT2uiS96"
      },
      "id": "KgRKzT2uiS96"
    },
    {
      "cell_type": "code",
      "execution_count": null,
      "id": "e09fb60f-1aac-455b-b67d-8d2e4ccfd747",
      "metadata": {
        "ExecuteTime": {
          "end_time": "2024-05-15T08:19:46.559082Z",
          "start_time": "2024-05-15T08:19:44.541330Z"
        },
        "id": "e09fb60f-1aac-455b-b67d-8d2e4ccfd747"
      },
      "outputs": [],
      "source": [
        "def create_agent(\n",
        "    llm: ChatOpenAI,\n",
        "    tools: list,\n",
        "    system_prompt: str,\n",
        ") -> str:\n",
        "    \"\"\"Create a function-calling agent and add it to the graph.\"\"\"\n",
        "    system_prompt += \"\\nWork autonomously according to your specialty, using the tools available to you.\"\n",
        "    \" Do not ask for clarification.\"\n",
        "    \" Your other team members (and other teams) will collaborate with you with their own specialties.\"\n",
        "    \" You are chosen for a reason! You are one of the following team members: {team_members}.\"\n",
        "    prompt = ChatPromptTemplate.from_messages(\n",
        "        [\n",
        "            (\n",
        "                \"system\",\n",
        "                system_prompt,\n",
        "            ),\n",
        "            MessagesPlaceholder(variable_name=\"messages\"),\n",
        "            MessagesPlaceholder(variable_name=\"agent_scratchpad\"),\n",
        "        ]\n",
        "    )\n",
        "    agent = create_openai_functions_agent(llm, tools, prompt)\n",
        "    executor = AgentExecutor(agent=agent, tools=tools, handle_parsing_errors=True)\n",
        "    return executor\n",
        "\n",
        "\n",
        "def agent_node(state, agent, name):\n",
        "    result = agent.invoke(state)\n",
        "    return {\"messages\": [HumanMessage(content=result[\"output\"], name=name)]}\n",
        "\n",
        "\n",
        "def create_team_supervisor(llm: ChatOpenAI, system_prompt, members) -> str:\n",
        "    \"\"\"An LLM-based router.\"\"\"\n",
        "    options = [\"FINISH\"] + members\n",
        "    function_def = {\n",
        "        \"name\": \"route\",\n",
        "        \"description\": \"Select the next role.\",\n",
        "        \"parameters\": {\n",
        "            \"title\": \"routeSchema\",\n",
        "            \"type\": \"object\",\n",
        "            \"properties\": {\n",
        "                \"next\": {\n",
        "                    \"title\": \"Next\",\n",
        "                    \"anyOf\": [\n",
        "                        {\"enum\": options},\n",
        "                    ],\n",
        "                },\n",
        "            },\n",
        "            \"required\": [\"next\"],\n",
        "        },\n",
        "    }\n",
        "    prompt = ChatPromptTemplate.from_messages(\n",
        "        [\n",
        "            (\"system\", system_prompt),\n",
        "            MessagesPlaceholder(variable_name=\"messages\"),\n",
        "            (\n",
        "                \"system\",\n",
        "                \"Given the conversation above, who should act next?\"\n",
        "                \" Or should we FINISH? Select one of: {options}\",\n",
        "            ),\n",
        "        ]\n",
        "    ).partial(options=str(options), team_members=\", \".join(members))\n",
        "    return (\n",
        "        prompt\n",
        "        | llm.bind_functions(functions=[function_def], function_call=\"route\")\n",
        "        | JsonOutputFunctionsParser()\n",
        "    )"
      ]
    },
    {
      "cell_type": "markdown",
      "source": [
        "# Create the Agents and Graph\n",
        "\n",
        "Here you create the agents you can also combine different LLMs to do your tasks. This might be beneficial because for specific tasks some LLMs might perform better than others or be less costly than others.\n",
        "\n",
        "First you have to define the `graph state`. And then you can create your agents which can access the tools created before."
      ],
      "metadata": {
        "id": "TUaAJZEdjB__"
      },
      "id": "TUaAJZEdjB__"
    },
    {
      "cell_type": "markdown",
      "source": [
        "## Define Graph State"
      ],
      "metadata": {
        "id": "QdvIfNFCr21m"
      },
      "id": "QdvIfNFCr21m"
    },
    {
      "cell_type": "code",
      "source": [
        "# Define team graph state\n",
        "class ResearchTeamState(TypedDict):\n",
        "    # This tracks the team's conversation internally\n",
        "    messages: Annotated[List[BaseMessage], operator.add]\n",
        "    # This provides each worker with context on the others' skill sets\n",
        "    team_members: str\n",
        "    # This is how the supervisor tells langgraph who has to work next\n",
        "    next: str\n",
        "    # This tracks the shared directory state\n",
        "    current_files: str"
      ],
      "metadata": {
        "id": "w4IwTYXuqDtW"
      },
      "id": "w4IwTYXuqDtW",
      "execution_count": null,
      "outputs": []
    },
    {
      "cell_type": "markdown",
      "source": [
        "Next, you have a helper function that will run before each worker agent begins their task. This function ensures that the agents are more aware of the current state of the working directory.\n"
      ],
      "metadata": {
        "id": "QXjXgiOBsCs3"
      },
      "id": "QXjXgiOBsCs3"
    },
    {
      "cell_type": "markdown",
      "source": [
        "## Helper Function for Dictory Access"
      ],
      "metadata": {
        "id": "lTdZSaOvrv6U"
      },
      "id": "lTdZSaOvrv6U"
    },
    {
      "cell_type": "code",
      "source": [
        "def prelude(state):\n",
        "    \"\"\"\n",
        "    A helper function that prepares the state for each worker agent by ensuring the working directory exists\n",
        "    and listing the files present in it.\n",
        "\n",
        "    Args:\n",
        "        state (dict): The current state to be updated with information about the files in the working directory.\n",
        "\n",
        "    Returns:\n",
        "        dict: The updated state with a key \"current_files\" containing a message about the files in the directory.\n",
        "              If no files are present, the message will indicate that no files have been written.\n",
        "    \"\"\"\n",
        "\n",
        "    written_files = []\n",
        "    if not WORKING_DIRECTORY.exists():\n",
        "        WORKING_DIRECTORY.mkdir(parents=True)\n",
        "    try:\n",
        "        written_files = [\n",
        "            f.relative_to(WORKING_DIRECTORY) for f in WORKING_DIRECTORY.rglob(\"*\")\n",
        "            if f.is_file()\n",
        "        ]\n",
        "    except Exception as e:\n",
        "        print(f\"Error reading files: {e}\")\n",
        "    if not written_files:\n",
        "        return {**state, \"current_files\": \"No files written.\"}\n",
        "    return {\n",
        "        **state,\n",
        "        \"current_files\": \"\\nBelow are files your team has written to the directory:\\n\"\n",
        "        + \"\\n\".join([f\" - {f}\" for f in written_files]),\n",
        "    }"
      ],
      "metadata": {
        "id": "xbeCH38vqF0w"
      },
      "id": "xbeCH38vqF0w",
      "execution_count": null,
      "outputs": []
    },
    {
      "cell_type": "markdown",
      "source": [],
      "metadata": {
        "id": "638H7DM23Nu0"
      },
      "id": "638H7DM23Nu0"
    },
    {
      "cell_type": "markdown",
      "source": [
        "Now you can initialize your LLM. You can also use another LLM, for instance via [Fireworks](https://fireworks.ai/) works seemlessly with this LangGraph setting instead of OpenAI. For this, you just need to get the API key and if you want to use, for instance, the `Llama 3.1 70B` model, you how have to initialize your LLM as follows:\n",
        "\n",
        "```python\n",
        "from langchain_fireworks import ChatFireworks\n",
        "\n",
        "llm = ChatFireworks(\n",
        "    model=\"accounts/fireworks/models/llama-v3p1-70b-instruct\",\n",
        "    temperature=0\n",
        ")\n"
      ],
      "metadata": {
        "id": "CUGGCtiJumoN"
      },
      "id": "CUGGCtiJumoN"
    },
    {
      "cell_type": "markdown",
      "source": [
        "## Init LLM"
      ],
      "metadata": {
        "id": "zvJ38bsFrr7z"
      },
      "id": "zvJ38bsFrr7z"
    },
    {
      "cell_type": "code",
      "source": [
        "######## Initialize the LLM ########\n",
        "llm = ChatOpenAI(model=\"gpt-4o\")"
      ],
      "metadata": {
        "id": "_NKCBUIbroO5"
      },
      "id": "_NKCBUIbroO5",
      "execution_count": null,
      "outputs": []
    },
    {
      "cell_type": "markdown",
      "source": [
        "# Define the Agents"
      ],
      "metadata": {
        "id": "71WyoKY0s6xk"
      },
      "id": "71WyoKY0s6xk"
    },
    {
      "cell_type": "code",
      "execution_count": null,
      "id": "1bcdbf44-9481-430c-8429-fa142ed8a626",
      "metadata": {
        "ExecuteTime": {
          "end_time": "2024-05-15T08:19:53.677722Z",
          "start_time": "2024-05-15T08:19:51.953933Z"
        },
        "id": "1bcdbf44-9481-430c-8429-fa142ed8a626"
      },
      "outputs": [],
      "source": [
        "web_search_agent = create_agent(\n",
        "    llm,\n",
        "    [tavily_tool],\n",
        "    \"\"\"You are a research assistant who can search for up-to-date info using the\n",
        "    Tavily Search Engine.\"\"\",\n",
        ")\n",
        "search_node = functools.partial(agent_node, agent=web_search_agent, name=\"Search\")\n",
        "\n",
        "exa_search_agent = create_agent(\n",
        "    llm,\n",
        "    [exa_search],\n",
        "    \"\"\"You are a research assistant who can search for all recent info on Exa Search\n",
        "    your response should clearly articulate the key points you found.\"\"\",\n",
        ")\n",
        "exa_search_node = functools.partial(agent_node, agent=web_search_agent, name=\"ExaSearch\")\n",
        "\n",
        "\n",
        "patent_search_agent = create_agent(\n",
        "    llm,\n",
        "    [patent_search],\n",
        "    \"\"\"You are a market research assistant, very knowledgeable in patent research\n",
        "    to find up-to-date info about patents using the Google patents API.\"\"\",\n",
        ")\n",
        "patent_search_node = functools.partial(agent_node, agent=web_search_agent, name=\"PatentSearch\")\n",
        "\n",
        "doc_writer_agent = create_agent(\n",
        "    llm,\n",
        "    [write_document, edit_document, read_document],\n",
        "    \"\"\"You are a Senior Market Research Analyst, and an highly respected\n",
        "    expert in writing market research reports for your product development team.\\n\"\"\"\n",
        "    # The {current_files} value is populated automatically by the graph state\n",
        "    \"Below are files currently in your directory:\\n{current_files}\",\n",
        ")\n",
        "# Injects current directory working state before each call\n",
        "context_aware_doc_writer_agent = prelude | doc_writer_agent\n",
        "doc_writing_node = functools.partial(\n",
        "    agent_node, agent=context_aware_doc_writer_agent, name=\"DocWriter\"\n",
        ")\n",
        "\n",
        "research_writing_supervisor = create_team_supervisor(\n",
        "    llm,\n",
        "    \"You are a supervisor tasked with managing a conversation between the\"\n",
        "    \" following workers:  {team_members}. Given the following user request,\"\n",
        "    \" respond with the worker to act next. Each worker will perform a\"\n",
        "    \" task and respond with their results and status. When finished,\"\n",
        "    \" respond with FINISH.\",\n",
        "    [\"DocWriter\", \"Search\", \"ExaSearch\", \"PatentSearch\"],\n",
        ")"
      ]
    },
    {
      "cell_type": "markdown",
      "id": "aee2cd9b-29aa-458e-903d-4e49179e5d59",
      "metadata": {
        "id": "aee2cd9b-29aa-458e-903d-4e49179e5d59"
      },
      "source": [
        "## Create the Graph"
      ]
    },
    {
      "cell_type": "code",
      "execution_count": null,
      "id": "9c5c644f-8966-4d2e-98d2-80d73520e9fe",
      "metadata": {
        "ExecuteTime": {
          "end_time": "2024-05-15T08:19:53.693123Z",
          "start_time": "2024-05-15T08:19:53.678906Z"
        },
        "id": "9c5c644f-8966-4d2e-98d2-80d73520e9fe"
      },
      "outputs": [],
      "source": [
        "# Create the graph\n",
        "authoring_graph = StateGraph(ResearchTeamState)\n",
        "authoring_graph.add_node(\"DocWriter\", doc_writing_node)\n",
        "authoring_graph.add_node(\"Search\", search_node)\n",
        "authoring_graph.add_node(\"ExaSearch\", exa_search_node)\n",
        "authoring_graph.add_node(\"PatentSearch\", patent_search_node)\n",
        "authoring_graph.add_node(\"supervisor\", research_writing_supervisor)\n",
        "\n",
        "# Add the edges\n",
        "authoring_graph.add_edge(\"DocWriter\", \"supervisor\")\n",
        "authoring_graph.add_edge(\"PatentSearch\", \"supervisor\")\n",
        "authoring_graph.add_edge(\"Search\", \"supervisor\")\n",
        "authoring_graph.add_edge(\"ExaSearch\", \"supervisor\")\n",
        "\n",
        "# Add the edges where routing applies\n",
        "authoring_graph.add_conditional_edges(\n",
        "    \"supervisor\",\n",
        "    lambda x: x[\"next\"],\n",
        "    {\n",
        "        \"DocWriter\": \"DocWriter\",\n",
        "        \"Search\": \"Search\",\n",
        "        \"PatentSearch\": \"PatentSearch\",\n",
        "        \"ExaSearch\": \"ExaSearch\",\n",
        "        \"FINISH\": END,\n",
        "    },\n",
        ")\n",
        "\n",
        "authoring_graph.add_edge(START, \"supervisor\")\n",
        "chain = authoring_graph.compile()\n",
        "\n",
        "\n",
        "# The following functions interoperate between the top level graph state\n",
        "# and the state of the research sub-graph\n",
        "# this makes it so that the states of each graph don't get intermixed\n",
        "def enter_chain(message: str, members: List[str]):\n",
        "    results = {\n",
        "        \"messages\": [HumanMessage(content=message)],\n",
        "        \"team_members\": \", \".join(members),\n",
        "    }\n",
        "    return results\n",
        "\n",
        "\n",
        "# Reuse the enter/exit functions to wrap the graph\n",
        "authoring_chain = (\n",
        "    functools.partial(enter_chain, members=authoring_graph.nodes)\n",
        "    | authoring_graph.compile()\n",
        ")"
      ]
    },
    {
      "cell_type": "code",
      "execution_count": null,
      "id": "58e7d1e48a9c39a5",
      "metadata": {
        "ExecuteTime": {
          "end_time": "2024-05-15T08:32:13.913188Z",
          "start_time": "2024-05-15T08:32:11.598993Z"
        },
        "colab": {
          "base_uri": "https://localhost:8080/",
          "height": 255
        },
        "id": "58e7d1e48a9c39a5",
        "outputId": "356b7caa-c98a-4fa6-fd9f-61253acaaee0"
      },
      "outputs": [
        {
          "output_type": "display_data",
          "data": {
            "image/jpeg": "[encoded data removed]",
            "text/plain": [
              "<IPython.core.display.Image object>"
            ]
          },
          "metadata": {}
        }
      ],
      "source": [
        "display(Image(chain.get_graph().draw_mermaid_png()))"
      ]
    },
    {
      "cell_type": "code",
      "execution_count": null,
      "id": "9860fd46-c24d-40a5-a6ba-e8fddcd43369",
      "metadata": {
        "ExecuteTime": {
          "end_time": "2024-05-15T08:19:53.723467Z",
          "start_time": "2024-05-15T08:19:53.709307Z"
        },
        "colab": {
          "base_uri": "https://localhost:8080/"
        },
        "id": "9860fd46-c24d-40a5-a6ba-e8fddcd43369",
        "outputId": "0d6e83ff-ce2e-4ed8-8f88-e19ff1bdae1d"
      },
      "outputs": [
        {
          "output_type": "stream",
          "name": "stdout",
          "text": [
            "{'supervisor': {'next': 'Search'}}\n",
            "---\n",
            "{'Search': {'messages': [HumanMessage(content='### Executive Summary\\n\\nThe semiconductor industry continues to be a cornerstone of technological progress, with global sales reaching $574 billion in 2022 and projected to surpass $1 trillion by 2030. The year 2023 has seen remarkable advancements including the development of thermal transistors and significant investments in workforce development in the U.S., propelled by the CHIPS and Science Act. Major players like Samsung, Huawei, IBM, Qualcomm, and LG dominate the patent landscape, with a significant number of patents being filed and granted in semiconductor technology. The industry is characterized by both rapid innovation and extensive patent activity, making it a crucial area for technological and economic growth.\\n\\n### Semiconductor Development: A 2023 Overview\\n\\n#### Introduction\\n\\nThe semiconductor industry, often referred to as the backbone of modern technology, has seen unprecedented growth and development over the years. As of 2022, global semiconductor sales reached an all-time high of $574 billion, and projections suggest this number could exceed $1 trillion by 2030. This growth is driven by increasing demand across computing, data storage, wireless communication, and automotive electronics sectors.\\n\\n#### Recent Developments\\n\\n##### Thermal Transistors\\n\\nOne of the groundbreaking developments in 2023 is the advent of thermal transistors. Researchers from the University of California, Los Angeles, reported the invention of the first solid-state device that uses an electronic signal to control the flow of heat. This innovation could potentially revolutionize thermal management in electronics, leading to more efficient and compact devices.\\n\\n[Source: IEEE Spectrum](https://spectrum.ieee.org/semiconductor-news-2023)\\n\\n##### Workforce Development\\n\\nWith the U.S. CHIPS and Science Act set to inject tens of billions of dollars into chip manufacturing, there is a significant focus on workforce development. U.S. universities are playing a crucial role in building a semiconductor workforce to meet the demands of upcoming manufacturing facilities. This initiative is essential to ensure that the U.S. remains competitive in the global semiconductor market.\\n\\n[Source: IEEE Spectrum](https://spectrum.ieee.org/semiconductor-news-2023)\\n\\n#### Market Trends\\n\\nThe semiconductor industry\\'s significance continues to grow, with more than 1 trillion semiconductors sold globally in 2022. This massive volume underscores the industry\\'s critical role in powering essential and transformative technologies.\\n\\n[Source: Semiconductor Industry Association](https://semiconductors.org/2023-state-of-the-u-s-semiconductor-industry/)\\n\\n#### Patent Landscape\\n\\n##### Leading Patent Holders\\n\\nSamsung Electronics led the way in 2023 with over 10,000 patents granted, particularly in semiconductor manufacturing. Taiwan Semiconductor Manufacturing Company (TSMC) followed closely with 3,442 patents. Other major players include Huawei, IBM, Qualcomm, and LG, indicating a highly competitive landscape in semiconductor innovation.\\n\\n[Source: Semiconductor Digest](https://www.semiconductor-digest.com/semiconductor-tech-received-most-granted-patents-in-2023/)\\n\\n##### Patent Trends\\n\\nIn 2023, semiconductor technology remained the top field for granted patents, followed by virtual reality, 5G, artificial intelligence (AI), and software technology related to unauthorized user detection. The number of global patents for semiconductors reached a record high of 69,190, marking a 59% increase over the past five years.\\n\\n[Source: Mathys & Squire](https://www.mathys-squire.com/insights-and-events/news/semiconductor-patents-rise-by-59-in-five-years-to-reach-to-record-high/)\\n\\n#### Conclusion\\n\\nThe semiconductor industry is at the forefront of technological advancement, with significant strides made in 2023. The development of thermal transistors and the focus on workforce development are just a few examples of the innovation driving this sector. The competitive patent landscape, dominated by major tech companies, highlights the intensive research and development efforts underway. As the industry continues to grow, it will remain a vital component of global technological and economic progress.\\n\\n#### References\\n\\n1. [Recent Developments in Global Semiconductor Industry (USITC)](https://www.usitc.gov/publications/332/executive_briefings/ebot_recent_developments_in_global_semiconductor_industry.pdf)\\n2. [Biggest Semiconductor Inventions and Discoveries in 2023 (McKinsey)](https://www.mckinsey-electronics.com/post/2023-biggest-semiconductor-inventions-discoveries)\\n3. [State of the U.S. Semiconductor Industry in 2023 (Semiconductor Industry Association)](https://semiconductors.org/2023-state-of-the-u-s-semiconductor-industry/)\\n4. [Top 10 Semiconductor Stories of 2023 (IEEE Spectrum)](https://spectrum.ieee.org/semiconductor-news-2023)\\n5. [2023 SIA Factbook (Semiconductor Industry Association)](https://www.semiconductors.org/the-2023-sia-factbook-your-source-for-semiconductor-industry-data/)\\n6. [Semiconductor Tech Received Most Granted Patents in 2023 (Semiconductor Digest)](https://www.semiconductor-digest.com/semiconductor-tech-received-most-granted-patents-in-2023/)\\n7. [Highest Volume of New Technology Patents in 2023 (Verdict)](https://www.verdict.co.uk/patent-signals-samsung-files-highest-volume-of-new-technology-patents-in-2023/)\\n8. [USPTO Patenting Statistics Final 2023 (Anaqua)](https://www.anaqua.com/resource/anaqua_analysis_of_uspto_patenting_statistics_final-2023/)\\n9. [Semiconductor Patents Rise by 59% in Five Years (Mathys & Squire)](https://www.mathys-squire.com/insights-and-events/news/semiconductor-patents-rise-by-59-in-five-years-to-reach-to-record-high/)\\n\\n```python\\n# Writing the research report to a text file\\n\\nreport_content = \"\"\"\\n# Executive Summary\\n\\nThe semiconductor industry continues to be a cornerstone of technological progress, with global sales reaching $574 billion in 2022 and projected to surpass $1 trillion by 2030. The year 2023 has seen remarkable advancements including the development of thermal transistors and significant investments in workforce development in the U.S., propelled by the CHIPS and Science Act. Major players like Samsung, Huawei, IBM, Qualcomm, and LG dominate the patent landscape, with a significant number of patents being filed and granted in semiconductor technology. The industry is characterized by both rapid innovation and extensive patent activity, making it a crucial area for technological and economic growth.\\n\\n# Semiconductor Development: A 2023 Overview\\n\\n## Introduction\\n\\nThe semiconductor industry, often referred to as the backbone of modern technology, has seen unprecedented growth and development over the years. As of 2022, global semiconductor sales reached an all-time high of $574 billion, and projections suggest this number could exceed $1 trillion by 2030. This growth is driven by increasing demand across computing, data storage, wireless communication, and automotive electronics sectors.\\n\\n## Recent Developments\\n\\n### Thermal Transistors\\n\\nOne of the groundbreaking developments in 2023 is the advent of thermal transistors. Researchers from the University of California, Los Angeles, reported the invention of the first solid-state device that uses an electronic signal to control the flow of heat. This innovation could potentially revolutionize thermal management in electronics, leading to more efficient and compact devices.\\n\\n[Source: IEEE Spectrum](https://spectrum.ieee.org/semiconductor-news-2023)\\n\\n### Workforce Development\\n\\nWith the U.S. CHIPS and Science Act set to inject tens of billions of dollars into chip manufacturing, there is a significant focus on workforce development. U.S. universities are playing a crucial role in building a semiconductor workforce to meet the demands of upcoming manufacturing facilities. This initiative is essential to ensure that the U.S. remains competitive in the global semiconductor market.\\n\\n[Source: IEEE Spectrum](https://spectrum.ieee.org/semiconductor-news-2023)\\n\\n## Market Trends\\n\\nThe semiconductor industry\\'s significance continues to grow, with more than 1 trillion semiconductors sold globally in 2022. This massive volume underscores the industry\\'s critical role in powering essential and transformative technologies. \\n\\n[Source: Semiconductor Industry Association](https://semiconductors.org/2023-state-of-the-u-s-semiconductor-industry/)\\n\\n## Patent Landscape\\n\\n### Leading Patent Holders\\n\\nSamsung Electronics led the way in 2023 with over 10,000 patents granted, particularly in semiconductor manufacturing. Taiwan Semiconductor Manufacturing Company (TSMC) followed closely with 3,442 patents. Other major players include Huawei, IBM, Qualcomm, and LG, indicating a highly competitive landscape in semiconductor innovation.\\n\\n[Source: Semiconductor Digest](https://www.semiconductor-digest.com/semiconductor-tech-received-most-granted-patents-in-2023/)\\n\\n### Patent Trends\\n\\nIn 2023, semiconductor technology remained the top field for granted patents, followed by virtual reality, 5G, artificial intelligence (AI), and software technology related to unauthorized user detection. The number of global patents for semiconductors reached a record high of 69,190, marking a 59% increase over the past five years.\\n\\n[Source: Mathys & Squire](https://www.mathys-squire.com/insights-and-events/news/semiconductor-patents-rise-by-59-in-five-years-to-reach-to-record-high/)\\n\\n## Conclusion\\n\\nThe semiconductor industry is at the forefront of technological advancement, with significant strides made in 2023. The development of thermal transistors and the focus on workforce development are just a few examples of the innovation driving this sector. The competitive patent landscape, dominated by major tech companies, highlights the intensive research and development efforts underway. As the industry continues to grow, it will remain a vital component of global technological and economic progress.\\n\\n## References\\n\\n1. [Recent Developments in Global Semiconductor Industry (USITC)](https://www.usitc.gov/publications/332/executive_briefings/ebot_recent_developments_in_global_semiconductor_industry.pdf)\\n2. [Biggest Semiconductor Inventions and Discoveries in 2023 (McKinsey)](https://www.mckinsey-electronics.com/post/2023-biggest-semiconductor-inventions-discoveries)\\n3. [State of the U.S. Semiconductor Industry in 2023 (Semiconductor Industry Association)](https://semiconductors.org/2023-state-of-the-u-s-semiconductor-industry/)\\n4. [Top 10 Semiconductor Stories of 2023 (IEEE Spectrum)](https://spectrum.ieee.org/semiconductor-news-2023)\\n5. [2023 SIA Factbook (Semiconductor Industry Association)](https://www.semiconductors.org/the-2023-sia-factbook-your-source-for-semiconductor-industry-data/)\\n6. [Semiconductor Tech Received Most Granted Patents in 2023 (Semiconductor Digest)](https://www.semiconductor-digest.com/semiconductor-tech-received-most-granted-patents-in-2023/)\\n7. [Highest Volume of New Technology Patents in 2023 (Verdict)](https://www.verdict.co.uk/patent-signals-samsung-files-highest-volume-of-new-technology-patents-in-2023/)\\n8. [USPTO Patenting Statistics Final 2023 (Anaqua)](https://www.anaqua.com/resource/anaqua_analysis_of_uspto_patenting_statistics_final-2023/)\\n9. [Semiconductor Patents Rise by 59% in Five Years (Mathys & Squire)](https://www.mathys-squire.com/insights-and-events/news/semiconductor-patents-rise-by-59-in-five-years-to-reach-to-record-high/)\\n\"\"\"\\n\\n# Save the report to a text file\\nwith open(\"Semiconductor_Development_2023_Report.txt\", \"w\") as file:\\n    file.write(report_content)\\n```', name='Search')]}}\n",
            "---\n",
            "{'supervisor': {'next': 'ExaSearch'}}\n",
            "---\n",
            "{'ExaSearch': {'messages': [HumanMessage(content='### Executive Summary\\n\\nThe semiconductor industry continues to be a cornerstone of technological progress, with global sales reaching $574 billion in 2022 and projected to surpass $1 trillion by 2030. The year 2023 has seen remarkable advancements including the development of thermal transistors and significant investments in workforce development in the U.S., propelled by the CHIPS and Science Act. Major players like Samsung, Huawei, IBM, Qualcomm, and LG dominate the patent landscape, with a significant number of patents being filed and granted in semiconductor technology. The industry is characterized by both rapid innovation and extensive patent activity, making it a crucial area for technological and economic growth.\\n\\n### Semiconductor Development: A 2023 Overview\\n\\n#### Introduction\\n\\nThe semiconductor industry, often referred to as the backbone of modern technology, has seen unprecedented growth and development over the years. As of 2022, global semiconductor sales reached an all-time high of $574 billion, and projections suggest this number could exceed $1 trillion by 2030. This growth is driven by increasing demand across computing, data storage, wireless communication, and automotive electronics sectors.\\n\\n#### Recent Developments\\n\\n##### Thermal Transistors\\n\\nOne of the groundbreaking developments in 2023 is the advent of thermal transistors. Researchers from the University of California, Los Angeles, reported the invention of the first solid-state device that uses an electronic signal to control the flow of heat. This innovation could potentially revolutionize thermal management in electronics, leading to more efficient and compact devices.\\n\\n[Source: IEEE Spectrum](https://spectrum.ieee.org/semiconductor-news-2023)\\n\\n##### Workforce Development\\n\\nWith the U.S. CHIPS and Science Act set to inject tens of billions of dollars into chip manufacturing, there is a significant focus on workforce development. U.S. universities are playing a crucial role in building a semiconductor workforce to meet the demands of upcoming manufacturing facilities. This initiative is essential to ensure that the U.S. remains competitive in the global semiconductor market.\\n\\n[Source: IEEE Spectrum](https://spectrum.ieee.org/semiconductor-news-2023)\\n\\n#### Market Trends\\n\\nThe semiconductor industry\\'s significance continues to grow, with more than 1 trillion semiconductors sold globally in 2022. This massive volume underscores the industry\\'s critical role in powering essential and transformative technologies.\\n\\n[Source: Semiconductor Industry Association](https://semiconductors.org/2023-state-of-the-u-s-semiconductor-industry/)\\n\\n#### Patent Landscape\\n\\n##### Leading Patent Holders\\n\\nSamsung Electronics led the way in 2023 with over 10,000 patents granted, particularly in semiconductor manufacturing. Taiwan Semiconductor Manufacturing Company (TSMC) followed closely with 3,442 patents. Other major players include Huawei, IBM, Qualcomm, and LG, indicating a highly competitive landscape in semiconductor innovation.\\n\\n[Source: Semiconductor Digest](https://www.semiconductor-digest.com/semiconductor-tech-received-most-granted-patents-in-2023/)\\n\\n##### Patent Trends\\n\\nIn 2023, semiconductor technology remained the top field for granted patents, followed by virtual reality, 5G, artificial intelligence (AI), and software technology related to unauthorized user detection. The number of global patents for semiconductors reached a record high of 69,190, marking a 59% increase over the past five years.\\n\\n[Source: Mathys & Squire](https://www.mathys-squire.com/insights-and-events/news/semiconductor-patents-rise-by-59-in-five-years-to-reach-to-record-high/)\\n\\n#### Conclusion\\n\\nThe semiconductor industry is at the forefront of technological advancement, with significant strides made in 2023. The development of thermal transistors and the focus on workforce development are just a few examples of the innovation driving this sector. The competitive patent landscape, dominated by major tech companies, highlights the intensive research and development efforts underway. As the industry continues to grow, it will remain a vital component of global technological and economic progress.\\n\\n#### References\\n\\n1. [Recent Developments in Global Semiconductor Industry (USITC)](https://www.usitc.gov/publications/332/executive_briefings/ebot_recent_developments_in_global_semiconductor_industry.pdf)\\n2. [Biggest Semiconductor Inventions and Discoveries in 2023 (McKinsey)](https://www.mckinsey-electronics.com/post/2023-biggest-semiconductor-inventions-discoveries)\\n3. [State of the U.S. Semiconductor Industry in 2023 (Semiconductor Industry Association)](https://semiconductors.org/2023-state-of-the-u-s-semiconductor-industry/)\\n4. [Top 10 Semiconductor Stories of 2023 (IEEE Spectrum)](https://spectrum.ieee.org/semiconductor-news-2023)\\n5. [2023 SIA Factbook (Semiconductor Industry Association)](https://www.semiconductors.org/the-2023-sia-factbook-your-source-for-semiconductor-industry-data/)\\n6. [Semiconductor Tech Received Most Granted Patents in 2023 (Semiconductor Digest)](https://www.semiconductor-digest.com/semiconductor-tech-received-most-granted-patents-in-2023/)\\n7. [Highest Volume of New Technology Patents in 2023 (Verdict)](https://www.verdict.co.uk/patent-signals-samsung-files-highest-volume-of-new-technology-patents-in-2023/)\\n8. [USPTO Patenting Statistics Final 2023 (Anaqua)](https://www.anaqua.com/resource/anaqua_analysis_of_uspto_patenting_statistics_final-2023/)\\n9. [Semiconductor Patents Rise by 59% in Five Years (Mathys & Squire)](https://www.mathys-squire.com/insights-and-events/news/semiconductor-patents-rise-by-59-in-five-years-to-reach-to-record-high/)\\n\\n```python\\n# Writing the research report to a text file\\n\\nreport_content = \"\"\"\\n# Executive Summary\\n\\nThe semiconductor industry continues to be a cornerstone of technological progress, with global sales reaching $574 billion in 2022 and projected to surpass $1 trillion by 2030. The year 2023 has seen remarkable advancements including the development of thermal transistors and significant investments in workforce development in the U.S., propelled by the CHIPS and Science Act. Major players like Samsung, Huawei, IBM, Qualcomm, and LG dominate the patent landscape, with a significant number of patents being filed and granted in semiconductor technology. The industry is characterized by both rapid innovation and extensive patent activity, making it a crucial area for technological and economic growth.\\n\\n# Semiconductor Development: A 2023 Overview\\n\\n## Introduction\\n\\nThe semiconductor industry, often referred to as the backbone of modern technology, has seen unprecedented growth and development over the years. As of 2022, global semiconductor sales reached an all-time high of $574 billion, and projections suggest this number could exceed $1 trillion by 2030. This growth is driven by increasing demand across computing, data storage, wireless communication, and automotive electronics sectors.\\n\\n## Recent Developments\\n\\n### Thermal Transistors\\n\\nOne of the groundbreaking developments in 2023 is the advent of thermal transistors. Researchers from the University of California, Los Angeles, reported the invention of the first solid-state device that uses an electronic signal to control the flow of heat. This innovation could potentially revolutionize thermal management in electronics, leading to more efficient and compact devices.\\n\\n[Source: IEEE Spectrum](https://spectrum.ieee.org/semiconductor-news-2023)\\n\\n### Workforce Development\\n\\nWith the U.S. CHIPS and Science Act set to inject tens of billions of dollars into chip manufacturing, there is a significant focus on workforce development. U.S. universities are playing a crucial role in building a semiconductor workforce to meet the demands of upcoming manufacturing facilities. This initiative is essential to ensure that the U.S. remains competitive in the global semiconductor market.\\n\\n[Source: IEEE Spectrum](https://spectrum.ieee.org/semiconductor-news-2023)\\n\\n## Market Trends\\n\\nThe semiconductor industry\\'s significance continues to grow, with more than 1 trillion semiconductors sold globally in 2022. This massive volume underscores the industry\\'s critical role in powering essential and transformative technologies. \\n\\n[Source: Semiconductor Industry Association](https://semiconductors.org/2023-state-of-the-u-s-semiconductor-industry/)\\n\\n## Patent Landscape\\n\\n### Leading Patent Holders\\n\\nSamsung Electronics led the way in 2023 with over 10,000 patents granted, particularly in semiconductor manufacturing. Taiwan Semiconductor Manufacturing Company (TSMC) followed closely with 3,442 patents. Other major players include Huawei, IBM, Qualcomm, and LG, indicating a highly competitive landscape in semiconductor innovation.\\n\\n[Source: Semiconductor Digest](https://www.semiconductor-digest.com/semiconductor-tech-received-most-granted-patents-in-2023/)\\n\\n### Patent Trends\\n\\nIn 2023, semiconductor technology remained the top field for granted patents, followed by virtual reality, 5G, artificial intelligence (AI), and software technology related to unauthorized user detection. The number of global patents for semiconductors reached a record high of 69,190, marking a 59% increase over the past five years.\\n\\n[Source: Mathys & Squire](https://www.mathys-squire.com/insights-and-events/news/semiconductor-patents-rise-by-59-in-five-years-to-reach-to-record-high/)\\n\\n## Conclusion\\n\\nThe semiconductor industry is at the forefront of technological advancement, with significant strides made in 2023. The development of thermal transistors and the focus on workforce development are just a few examples of the innovation driving this sector. The competitive patent landscape, dominated by major tech companies, highlights the intensive research and development efforts underway. As the industry continues to grow, it will remain a vital component of global technological and economic progress.\\n\\n## References\\n\\n1. [Recent Developments in Global Semiconductor Industry (USITC)](https://www.usitc.gov/publications/332/executive_briefings/ebot_recent_developments_in_global_semiconductor_industry.pdf)\\n2. [Biggest Semiconductor Inventions and Discoveries in 2023 (McKinsey)](https://www.mckinsey-electronics.com/post/2023-biggest-semiconductor-inventions-discoveries)\\n3. [State of the U.S. Semiconductor Industry in 2023 (Semiconductor Industry Association)](https://semiconductors.org/2023-state-of-the-u-s-semiconductor-industry/)\\n4. [Top 10 Semiconductor Stories of 2023 (IEEE Spectrum)](https://spectrum.ieee.org/semiconductor-news-2023)\\n5. [2023 SIA Factbook (Semiconductor Industry Association)](https://www.semiconductors.org/the-2023-sia-factbook-your-source-for-semiconductor-industry-data/)\\n6. [Semiconductor Tech Received Most Granted Patents in 2023 (Semiconductor Digest)](https://www.semiconductor-digest.com/semiconductor-tech-received-most-granted-patents-in-2023/)\\n7. [Highest Volume of New Technology Patents in 2023 (Verdict)](https://www.verdict.co.uk/patent-signals-samsung-files-highest-volume-of-new-technology-patents-in-2023/)\\n8. [USPTO Patenting Statistics Final 2023 (Anaqua)](https://www.anaqua.com/resource/anaqua_analysis_of_uspto_patenting_statistics_final-2023/)\\n9. [Semiconductor Patents Rise by 59% in Five Years (Mathys & Squire)](https://www.mathys-squire.com/insights-and-events/news/semiconductor-patents-rise-by-59-in-five-years-to-reach-to-record-high/)\\n\"\"\"\\n\\n# Save the report to a text file\\nwith open(\"Semiconductor_Development_2023_Report.txt\", \"w\") as file:\\n    file.write(report_content)\\n```', name='ExaSearch')]}}\n",
            "---\n",
            "{'supervisor': {'next': 'PatentSearch'}}\n",
            "---\n",
            "{'PatentSearch': {'messages': [HumanMessage(content='### Executive Summary\\n\\nThe semiconductor industry continues to be a cornerstone of technological progress, with global sales reaching $574 billion in 2022 and projected to surpass $1 trillion by 2030. The year 2023 has seen remarkable advancements including the development of thermal transistors and significant investments in workforce development in the U.S., propelled by the CHIPS and Science Act. Major players like Samsung, Huawei, IBM, Qualcomm, and LG dominate the patent landscape, with a significant number of patents being filed and granted in semiconductor technology. The industry is characterized by both rapid innovation and extensive patent activity, making it a crucial area for technological and economic growth.\\n\\n### Semiconductor Development: A 2023 Overview\\n\\n#### Introduction\\n\\nThe semiconductor industry, often referred to as the backbone of modern technology, has seen unprecedented growth and development over the years. As of 2022, global semiconductor sales reached an all-time high of $574 billion, and projections suggest this number could exceed $1 trillion by 2030. This growth is driven by increasing demand across computing, data storage, wireless communication, and automotive electronics sectors.\\n\\n#### Recent Developments\\n\\n##### Thermal Transistors\\n\\nOne of the groundbreaking developments in 2023 is the advent of thermal transistors. Researchers from the University of California, Los Angeles, reported the invention of the first solid-state device that uses an electronic signal to control the flow of heat. This innovation could potentially revolutionize thermal management in electronics, leading to more efficient and compact devices.\\n\\n[Source: IEEE Spectrum](https://spectrum.ieee.org/semiconductor-news-2023)\\n\\n##### Workforce Development\\n\\nWith the U.S. CHIPS and Science Act set to inject tens of billions of dollars into chip manufacturing, there is a significant focus on workforce development. U.S. universities are playing a crucial role in building a semiconductor workforce to meet the demands of upcoming manufacturing facilities. This initiative is essential to ensure that the U.S. remains competitive in the global semiconductor market.\\n\\n[Source: IEEE Spectrum](https://spectrum.ieee.org/semiconductor-news-2023)\\n\\n#### Market Trends\\n\\nThe semiconductor industry\\'s significance continues to grow, with more than 1 trillion semiconductors sold globally in 2022. This massive volume underscores the industry\\'s critical role in powering essential and transformative technologies.\\n\\n[Source: Semiconductor Industry Association](https://semiconductors.org/2023-state-of-the-u-s-semiconductor-industry/)\\n\\n#### Patent Landscape\\n\\n##### Leading Patent Holders\\n\\nSamsung Electronics led the way in 2023 with over 10,000 patents granted, particularly in semiconductor manufacturing. Taiwan Semiconductor Manufacturing Company (TSMC) followed closely with 3,442 patents. Other major players include Huawei, IBM, Qualcomm, and LG, indicating a highly competitive landscape in semiconductor innovation.\\n\\n[Source: Semiconductor Digest](https://www.semiconductor-digest.com/semiconductor-tech-received-most-granted-patents-in-2023/)\\n\\n##### Patent Trends\\n\\nIn 2023, semiconductor technology remained the top field for granted patents, followed by virtual reality, 5G, artificial intelligence (AI), and software technology related to unauthorized user detection. The number of global patents for semiconductors reached a record high of 69,190, marking a 59% increase over the past five years.\\n\\n[Source: Mathys & Squire](https://www.mathys-squire.com/insights-and-events/news/semiconductor-patents-rise-by-59-in-five-years-to-reach-to-record-high/)\\n\\n#### Conclusion\\n\\nThe semiconductor industry is at the forefront of technological advancement, with significant strides made in 2023. The development of thermal transistors and the focus on workforce development are just a few examples of the innovation driving this sector. The competitive patent landscape, dominated by major tech companies, highlights the intensive research and development efforts underway. As the industry continues to grow, it will remain a vital component of global technological and economic progress.\\n\\n#### References\\n\\n1. [Recent Developments in Global Semiconductor Industry (USITC)](https://www.usitc.gov/publications/332/executive_briefings/ebot_recent_developments_in_global_semiconductor_industry.pdf)\\n2. [Biggest Semiconductor Inventions and Discoveries in 2023 (McKinsey)](https://www.mckinsey-electronics.com/post/2023-biggest-semiconductor-inventions-discoveries)\\n3. [State of the U.S. Semiconductor Industry in 2023 (Semiconductor Industry Association)](https://semiconductors.org/2023-state-of-the-u-s-semiconductor-industry/)\\n4. [Top 10 Semiconductor Stories of 2023 (IEEE Spectrum)](https://spectrum.ieee.org/semiconductor-news-2023)\\n5. [2023 SIA Factbook (Semiconductor Industry Association)](https://www.semiconductors.org/the-2023-sia-factbook-your-source-for-semiconductor-industry-data/)\\n6. [Semiconductor Tech Received Most Granted Patents in 2023 (Semiconductor Digest)](https://www.semiconductor-digest.com/semiconductor-tech-received-most-granted-patents-in-2023/)\\n7. [Highest Volume of New Technology Patents in 2023 (Verdict)](https://www.verdict.co.uk/patent-signals-samsung-files-highest-volume-of-new-technology-patents-in-2023/)\\n8. [USPTO Patenting Statistics Final 2023 (Anaqua)](https://www.anaqua.com/resource/anaqua_analysis_of_uspto_patenting_statistics_final-2023/)\\n9. [Semiconductor Patents Rise by 59% in Five Years (Mathys & Squire)](https://www.mathys-squire.com/insights-and-events/news/semiconductor-patents-rise-by-59-in-five-years-to-reach-to-record-high/)\\n\\n```python\\n# Writing the research report to a text file\\n\\nreport_content = \"\"\"\\n# Executive Summary\\n\\nThe semiconductor industry continues to be a cornerstone of technological progress, with global sales reaching $574 billion in 2022 and projected to surpass $1 trillion by 2030. The year 2023 has seen remarkable advancements including the development of thermal transistors and significant investments in workforce development in the U.S., propelled by the CHIPS and Science Act. Major players like Samsung, Huawei, IBM, Qualcomm, and LG dominate the patent landscape, with a significant number of patents being filed and granted in semiconductor technology. The industry is characterized by both rapid innovation and extensive patent activity, making it a crucial area for technological and economic growth.\\n\\n# Semiconductor Development: A 2023 Overview\\n\\n## Introduction\\n\\nThe semiconductor industry, often referred to as the backbone of modern technology, has seen unprecedented growth and development over the years. As of 2022, global semiconductor sales reached an all-time high of $574 billion, and projections suggest this number could exceed $1 trillion by 2030. This growth is driven by increasing demand across computing, data storage, wireless communication, and automotive electronics sectors.\\n\\n## Recent Developments\\n\\n### Thermal Transistors\\n\\nOne of the groundbreaking developments in 2023 is the advent of thermal transistors. Researchers from the University of California, Los Angeles, reported the invention of the first solid-state device that uses an electronic signal to control the flow of heat. This innovation could potentially revolutionize thermal management in electronics, leading to more efficient and compact devices.\\n\\n[Source: IEEE Spectrum](https://spectrum.ieee.org/semiconductor-news-2023)\\n\\n### Workforce Development\\n\\nWith the U.S. CHIPS and Science Act set to inject tens of billions of dollars into chip manufacturing, there is a significant focus on workforce development. U.S. universities are playing a crucial role in building a semiconductor workforce to meet the demands of upcoming manufacturing facilities. This initiative is essential to ensure that the U.S. remains competitive in the global semiconductor market.\\n\\n[Source: IEEE Spectrum](https://spectrum.ieee.org/semiconductor-news-2023)\\n\\n## Market Trends\\n\\nThe semiconductor industry\\'s significance continues to grow, with more than 1 trillion semiconductors sold globally in 2022. This massive volume underscores the industry\\'s critical role in powering essential and transformative technologies. \\n\\n[Source: Semiconductor Industry Association](https://semiconductors.org/2023-state-of-the-u-s-semiconductor-industry/)\\n\\n## Patent Landscape\\n\\n### Leading Patent Holders\\n\\nSamsung Electronics led the way in 2023 with over 10,000 patents granted, particularly in semiconductor manufacturing. Taiwan Semiconductor Manufacturing Company (TSMC) followed closely with 3,442 patents. Other major players include Huawei, IBM, Qualcomm, and LG, indicating a highly competitive landscape in semiconductor innovation.\\n\\n[Source: Semiconductor Digest](https://www.semiconductor-digest.com/semiconductor-tech-received-most-granted-patents-in-2023/)\\n\\n### Patent Trends\\n\\nIn 2023, semiconductor technology remained the top field for granted patents, followed by virtual reality, 5G, artificial intelligence (AI), and software technology related to unauthorized user detection. The number of global patents for semiconductors reached a record high of 69,190, marking a 59% increase over the past five years.\\n\\n[Source: Mathys & Squire](https://www.mathys-squire.com/insights-and-events/news/semiconductor-patents-rise-by-59-in-five-years-to-reach-to-record-high/)\\n\\n## Conclusion\\n\\nThe semiconductor industry is at the forefront of technological advancement, with significant strides made in 2023. The development of thermal transistors and the focus on workforce development are just a few examples of the innovation driving this sector. The competitive patent landscape, dominated by major tech companies, highlights the intensive research and development efforts underway. As the industry continues to grow, it will remain a vital component of global technological and economic progress.\\n\\n## References\\n\\n1. [Recent Developments in Global Semiconductor Industry (USITC)](https://www.usitc.gov/publications/332/executive_briefings/ebot_recent_developments_in_global_semiconductor_industry.pdf)\\n2. [Biggest Semiconductor Inventions and Discoveries in 2023 (McKinsey)](https://www.mckinsey-electronics.com/post/2023-biggest-semiconductor-inventions-discoveries)\\n3. [State of the U.S. Semiconductor Industry in 2023 (Semiconductor Industry Association)](https://semiconductors.org/2023-state-of-the-u-s-semiconductor-industry/)\\n4. [Top 10 Semiconductor Stories of 2023 (IEEE Spectrum)](https://spectrum.ieee.org/semiconductor-news-2023)\\n5. [2023 SIA Factbook (Semiconductor Industry Association)](https://www.semiconductors.org/the-2023-sia-factbook-your-source-for-semiconductor-industry-data/)\\n6. [Semiconductor Tech Received Most Granted Patents in 2023 (Semiconductor Digest)](https://www.semiconductor-digest.com/semiconductor-tech-received-most-granted-patents-in-2023/)\\n7. [Highest Volume of New Technology Patents in 2023 (Verdict)](https://www.verdict.co.uk/patent-signals-samsung-files-highest-volume-of-new-technology-patents-in-2023/)\\n8. [USPTO Patenting Statistics Final 2023 (Anaqua)](https://www.anaqua.com/resource/anaqua_analysis_of_uspto_patenting_statistics_final-2023/)\\n9. [Semiconductor Patents Rise by 59% in Five Years (Mathys & Squire)](https://www.mathys-squire.com/insights-and-events/news/semiconductor-patents-rise-by-59-in-five-years-to-reach-to-record-high/)\\n\"\"\"\\n\\n# Save the report to a text file\\nwith open(\"Semiconductor_Development_2023_Report.txt\", \"w\") as file:\\n    file.write(report_content)\\n```', name='PatentSearch')]}}\n",
            "---\n",
            "{'supervisor': {'next': 'DocWriter'}}\n",
            "---\n",
            "{'DocWriter': {'messages': [HumanMessage(content='The research report on semiconductor development in 2023 has been successfully written and saved as \"Semiconductor_Development_2023_Report.txt\". Here are the links to the sources included in the report:\\n\\n1. [Recent Developments in Global Semiconductor Industry (USITC)](https://www.usitc.gov/publications/332/executive_briefings/ebot_recent_developments_in_global_semiconductor_industry.pdf)\\n2. [Biggest Semiconductor Inventions and Discoveries in 2023 (McKinsey)](https://www.mckinsey-electronics.com/post/2023-biggest-semiconductor-inventions-discoveries)\\n3. [State of the U.S. Semiconductor Industry in 2023 (Semiconductor Industry Association)](https://semiconductors.org/2023-state-of-the-u-s-semiconductor-industry/)\\n4. [Top 10 Semiconductor Stories of 2023 (IEEE Spectrum)](https://spectrum.ieee.org/semiconductor-news-2023)\\n5. [2023 SIA Factbook (Semiconductor Industry Association)](https://www.semiconductors.org/the-2023-sia-factbook-your-source-for-semiconductor-industry-data/)\\n6. [Semiconductor Tech Received Most Granted Patents in 2023 (Semiconductor Digest)](https://www.semiconductor-digest.com/semiconductor-tech-received-most-granted-patents-in-2023/)\\n7. [Highest Volume of New Technology Patents in 2023 (Verdict)](https://www.verdict.co.uk/patent-signals-samsung-files-highest-volume-of-new-technology-patents-in-2023/)\\n8. [USPTO Patenting Statistics Final 2023 (Anaqua)](https://www.anaqua.com/resource/anaqua_analysis_of_uspto_patenting_statistics_final-2023/)\\n9. [Semiconductor Patents Rise by 59% in Five Years (Mathys & Squire)](https://www.mathys-squire.com/insights-and-events/news/semiconductor-patents-rise-by-59-in-five-years-to-reach-to-record-high/)', name='DocWriter')]}}\n",
            "---\n",
            "{'supervisor': {'next': 'FINISH'}}\n",
            "---\n"
          ]
        }
      ],
      "source": [
        "for s in authoring_chain.stream(\n",
        "    \"\"\"Write a 800 words long research report white paper on semiconductor development which\n",
        "    includes an executive summary at the beginning about your findings.\n",
        "    Search also for relevant recent patents and include the links to it.\n",
        "    IMPORTANT: Provide the links to all your sources, and then write the report to disk as .txt file.\"\"\",\n",
        "    {\"recursion_limit\": 100},\n",
        "):\n",
        "    if \"__end__\" not in s:\n",
        "        print(s)\n",
        "        print(\"---\")"
      ]
    },
    {
      "cell_type": "markdown",
      "source": [
        "# Result Report"
      ],
      "metadata": {
        "id": "OGNzXGGWvYVS"
      },
      "id": "OGNzXGGWvYVS"
    },
    {
      "cell_type": "markdown",
      "source": [
        "# White Paper: Recent Developments in Semiconductor Industry\n",
        "\n",
        "## Executive Summary\n",
        "\n",
        "The semiconductor industry has seen substantial advancements and growth in 2023. This year has been marked by record-breaking sales, significant technological innovations, and challenges in supply chain management. The global semiconductor market is projected to surpass $1 trillion by 2030, driven by demands from various sectors including computing, data storage, wireless communication, and automotive electronics. Key innovations such as thermal transistors and advancements in AI applications have been highlighted, showcasing the industry's progressive technological landscape. Additionally, recent patent data reveals a surge in semiconductor-related patents, indicating a robust pipeline of future innovations. This report delves into these developments, discussing the current state of the industry, technological breakthroughs, and the strategic directions companies are taking to navigate this dynamic environment.\n",
        "\n",
        "## Introduction\n",
        "\n",
        "The semiconductor industry is a critical component of the global economy, underpinning advancements in technology across multiple sectors. In recent years, the industry has experienced rapid growth and innovation, driven by increasing demands for more powerful and efficient computing solutions. This report provides an overview of the recent developments in the semiconductor industry, including market trends, technological advancements, and recent patent filings.\n",
        "\n",
        "## Market Trends and Growth\n",
        "\n",
        "In 2022, global semiconductor sales reached an all-time high of \\$574 billion, and the market is projected to surpass \\$1 trillion by 2030. This growth is fueled by increasing demands from computing and data storage, wireless communication, and automotive electronics. Companies are diversifying their supply chain geographies to mitigate risks and ensure steady growth. Despite facing both shortages and oversupply challenges, the industry remains optimistic about future growth.\n",
        "\n",
        "*Source:* [USITC Executive Briefing](https://www.usitc.gov/publications/332/executive_briefings/ebot_recent_developments_in_global_semiconductor_industry.pdf)\n",
        "\n",
        "## Technological Innovations\n",
        "\n",
        "### Thermal Transistors\n",
        "\n",
        "One of the groundbreaking achievements in 2023 is the advent of thermal transistors. These devices leverage temperature differences to control electrical current, offering potential benefits in terms of energy efficiency and performance. This innovation represents a significant leap forward in semiconductor technology, promising to enhance the capabilities of electronic devices.\n",
        "\n",
        "*Source:* [McKinsey Electronics](https://www.mckinsey-electronics.com/post/2023-biggest-semiconductor-inventions-discoveries)\n",
        "\n",
        "### AI and Semiconductor Integration\n",
        "\n",
        "Artificial Intelligence (AI) continues to be a major driver of innovation within the semiconductor industry. In 2023, AI-related semiconductor patents surged, reflecting the industry's focus on integrating AI capabilities into semiconductor devices. These advancements are expected to revolutionize sectors such as healthcare, automotive, and consumer electronics, providing smarter and more efficient solutions.\n",
        "\n",
        "*Source:* [Semiconductor Digest](https://www.semiconductor-digest.com/semiconductor-tech-received-most-granted-patents-in-2023/)\n",
        "\n",
        "## Supply Chain and Talent Management\n",
        "\n",
        "The semiconductor industry faces significant challenges in supply chain management and talent acquisition. The global supply chain disruptions caused by the pandemic have led companies to invest in advanced software and analytics to track products and solutions. Additionally, there is a growing demand for specialized skills in areas such as smart factory automation, electrical engineering, and maintenance.\n",
        "\n",
        "*Source:* [Deloitte Semiconductor Industry Outlook](https://www2.deloitte.com/content/dam/Deloitte/us/Documents/technology-media-telecommunications/us-tmt-semiconductor-industry-outlook.pdf)\n",
        "\n",
        "## Recent Patent Activity\n",
        "\n",
        "The semiconductor industry has seen a remarkable increase in patent filings over the past year. In 2023, Samsung Electronics led with over 10,000 patents, followed by companies like IBM, Qualcomm, and Taiwan Semiconductor Manufacturing Company. These patents cover a wide range of technologies, from AI integration to advanced manufacturing processes.\n",
        "\n",
        "*Source:* [World IP Review](https://www.worldipreview.com/semiconductors-and-vr-lead-marginal-increase-in-us-patents-in-2023-24648), [Mathys & Squire](https://www.mathys-squire.com/insights-and-events/news/semiconductor-patents-rise-by-59-in-five-years-to-reach-to-record-high/)\n",
        "\n",
        "## Conclusion\n",
        "\n",
        "The semiconductor industry is poised for continued growth and innovation, driven by increasing demands and technological advancements. While challenges such as supply chain management and talent acquisition persist, the industry's robust pipeline of innovations and strategic initiatives indicate a promising future. As companies continue to invest in research and development, the semiconductor industry will play a pivotal role in shaping the future of technology.\n",
        "\n",
        "## References\n",
        "\n",
        "1. [USITC Executive Briefing](https://www.usitc.gov/publications/332/executive_briefings/ebot_recent_developments_in_global_semiconductor_industry.pdf)\n",
        "2. [McKinsey Electronics](https://www.mckinsey-electronics.com/post/2023-biggest-semiconductor-inventions-discoveries)\n",
        "3. [Deloitte Semiconductor Industry Outlook](https://www2.deloitte.com/content/dam/Deloitte/us/Documents/technology-media-telecommunications/us-tmt-semiconductor-industry-outlook.pdf)\n",
        "4. [Semiconductor Digest](https://www.semiconductor-digest.com/semiconductor-tech-received-most-granted-patents-in-2023/)\n",
        "5. [World IP Review](https://www.worldipreview.com/semiconductors-and-vr-lead-marginal-increase-in-us-patents-in-2023-24648)\n",
        "6. [Mathys & Squire](https://www.mathys-squire.com/insights-and-events/news/semiconductor-patents-rise-by-59-in-five-years-to-reach-to-record-high/)\n"
      ],
      "metadata": {
        "id": "D7eMENzPoYCO"
      },
      "id": "D7eMENzPoYCO"
    },
    {
      "cell_type": "code",
      "source": [],
      "metadata": {
        "id": "jVi0HIoO04pP"
      },
      "id": "jVi0HIoO04pP",
      "execution_count": null,
      "outputs": []
    }
  ],
  "metadata": {
    "kernelspec": {
      "display_name": "Python 3",
      "name": "python3"
    },
    "language_info": {
      "codemirror_mode": {
        "name": "ipython",
        "version": 3
      },
      "file_extension": ".py",
      "mimetype": "text/x-python",
      "name": "python",
      "nbconvert_exporter": "python",
      "pygments_lexer": "ipython3",
      "version": "3.11.1"
    },
    "colab": {
      "provenance": [],
      "machine_shape": "hm"
    }
  },
  "nbformat": 4,
  "nbformat_minor": 5
}